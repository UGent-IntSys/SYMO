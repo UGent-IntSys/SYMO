{
 "cells": [
  {
   "cell_type": "markdown",
   "metadata": {},
   "source": [
    "# Practical session: Density-Based Spatial Clustering of Applications with Noise (DBSCAN) \n",
    "\n",
    "DBSCAN (Density-Based Spatial Clustering of Applications with Noise) finds core samples in regions of high density and expands clusters from them. This algorithm is good for data which contains clusters of similar density.\n",
    "\n",
    "<img width=\"300\" alt=\"image\" src=\"https://dashee87.github.io/images/DBSCAN_tutorial.gif\">\n",
    "<img width=\"283\" alt=\"image\" src=\"https://media.geeksforgeeks.org/wp-content/uploads/20190418023034/781ff66c-b380-4a78-af25-80507ed6ff26.jpeg\">\n",
    "\n",
    "**Parameters**\n",
    "\n",
    "- `eps` (Epsilon): Define the maximum distance between two points for one to be considered as a neighbor of the other.\n",
    "It controls the radius of the neighborhood around a point. If the distance between two points is less than or equal to eps, they are considered part of the same neighborhood. Choosing the right value for eps is crucial; too small and DBSCAN may label most points as noise, too large and it may merge distinct clusters.\n",
    "\n",
    "- `min_samples`: The minimum number of points required to form a dense region (cluster).\n",
    "It defines the minimum size of a cluster. For a point to be classified as a core point (a point that is the center of a cluster), it must have at least min_samples points (including itself) within a distance of eps. Points with fewer than min_samples neighbors within eps are classified as border points or noise.\n",
    "\n",
    "**Definitions**\n",
    "\n",
    "- **Core Point**: A point that has at least min_samples points within its eps neighborhood.\n",
    "- **Border Point**: A point that has fewer than min_samples points within eps but is within the neighborhood of a core point.\n",
    "- **Noise Point**: A point that does not belong to any cluster (it is neither a core nor a border point).\n",
    "\n",
    "## Overview\n",
    "\n",
    "## Dataset\n",
    "\n",
    "We will use `Wholesale customers data`, which contains the annual spending in monetary units (m.u.) on diverse product categories. The dataset includes 440 customers with 8 attributes for each of these customers.\n",
    "\n",
    "- Dataset info: [../data/Wholesale-customers/](../data/Wholesale-customers/README.md)"
   ]
  },
  {
   "cell_type": "markdown",
   "metadata": {},
   "source": [
    "## Data loading\n"
   ]
  },
  {
   "cell_type": "code",
   "execution_count": 1,
   "metadata": {},
   "outputs": [],
   "source": [
    "## Importing Libraries \n",
    "\n",
    "# Base libraries\n",
    "import numpy as np\n",
    "import pandas as pd\n",
    "import os\n",
    "import datetime\n",
    "import warnings\n",
    "warnings.filterwarnings('ignore')\n",
    "\n",
    "# Visualisation \n",
    "import matplotlib\n",
    "import matplotlib.pyplot as plt\n",
    "import seaborn as sns\n",
    "\n",
    "# Models\n",
    "from sklearn.cluster import DBSCAN\n",
    "\n",
    "## Default options and global variables\n",
    "# Set number of decimal points to float type\n",
    "pd.set_option(\"display.float_format\", lambda x: \"%.2f\" % x)\n",
    "pd.set_option('display.precision', 2)\n",
    "SEED = 2024\n"
   ]
  },
  {
   "cell_type": "code",
   "execution_count": null,
   "metadata": {},
   "outputs": [],
   "source": [
    "# Set the data path \n",
    "DATA_PATH=\"../data/Wholesale-customers/\"\n",
    "\n",
    "# Data loading\n",
    "df = pd.read_csv(DATA_PATH + \"Wholesale_customers.csv\")\n",
    "\n",
    "# Data dimension \n",
    "print(\"Dataset:\",df.shape[0],\"rows,\",  df.shape[1], \"columns\")"
   ]
  },
  {
   "cell_type": "markdown",
   "metadata": {},
   "source": [
    "## Quick exploration"
   ]
  },
  {
   "cell_type": "code",
   "execution_count": null,
   "metadata": {},
   "outputs": [],
   "source": [
    "# Quick exploration \n",
    "df.head()"
   ]
  },
  {
   "cell_type": "code",
   "execution_count": null,
   "metadata": {},
   "outputs": [],
   "source": [
    "df.describe()"
   ]
  },
  {
   "cell_type": "code",
   "execution_count": null,
   "metadata": {},
   "outputs": [],
   "source": [
    "plt.scatter(df.Fresh, df.Milk)\n",
    "plt.xlabel('Fresh (m.u.)')\n",
    "plt.ylabel('Milk (m.u.)')"
   ]
  },
  {
   "cell_type": "markdown",
   "metadata": {},
   "source": [
    "## Unsupervise classification \n",
    "\n",
    "### Data preparation \n",
    "\n"
   ]
  },
  {
   "cell_type": "code",
   "execution_count": 7,
   "metadata": {},
   "outputs": [],
   "source": [
    "# Drop categorical variables \n",
    "X = df.drop(columns=['Channel', 'Region'])"
   ]
  },
  {
   "cell_type": "code",
   "execution_count": null,
   "metadata": {},
   "outputs": [],
   "source": [
    "X.head()"
   ]
  },
  {
   "cell_type": "code",
   "execution_count": null,
   "metadata": {},
   "outputs": [],
   "source": [
    "sns.pairplot(X,palette='dark')"
   ]
  },
  {
   "cell_type": "markdown",
   "metadata": {},
   "source": [
    "### Clustering"
   ]
  },
  {
   "cell_type": "code",
   "execution_count": 86,
   "metadata": {},
   "outputs": [],
   "source": [
    "epsilon = ?\n",
    "min_samples = ?\n",
    "dbscan = DBSCAN(eps=epsilon, min_samples=min_samples).fit(X)\n",
    "labels = dbscan.labels_"
   ]
  },
  {
   "cell_type": "code",
   "execution_count": null,
   "metadata": {},
   "outputs": [],
   "source": [
    "unique_labels, data_counts = np.unique(labels, return_counts=True)\n",
    "sns.barplot(x=unique_labels, y=data_counts)"
   ]
  },
  {
   "cell_type": "code",
   "execution_count": null,
   "metadata": {},
   "outputs": [],
   "source": [
    "X_labeled = X.copy()\n",
    "X_labeled['label'] = dbscan.labels_\n",
    "sns.pairplot(X_labeled, hue='label',palette='dark')"
   ]
  },
  {
   "cell_type": "markdown",
   "metadata": {},
   "source": [
    "## Revision\n",
    "..."
   ]
  }
 ],
 "metadata": {
  "kernelspec": {
   "display_name": ".envTF",
   "language": "python",
   "name": "python3"
  },
  "language_info": {
   "codemirror_mode": {
    "name": "ipython",
    "version": 3
   },
   "file_extension": ".py",
   "mimetype": "text/x-python",
   "name": "python",
   "nbconvert_exporter": "python",
   "pygments_lexer": "ipython3",
   "version": "3.9.18"
  }
 },
 "nbformat": 4,
 "nbformat_minor": 2
}
