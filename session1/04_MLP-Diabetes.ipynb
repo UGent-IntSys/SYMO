{
 "cells": [
  {
   "cell_type": "markdown",
   "id": "e725e372",
   "metadata": {},
   "source": [
    "# Practical session: Multilayer Perceptron (MLP)\n",
    "\n",
    "A Multilayer Perceptron (MLP) is a class of feedforward artificial neural networks (ANN) that consists of at least three layers of nodes: an input layer, one or more hidden layers, and an output layer. It uses layers of interconnected nodes (neurons) to learn and make predictions, typically employing activation functions and backpropagation during training.\n",
    "\n",
    "<img width=\"300\" alt=\"image\" src=\"https://miro.medium.com/v2/resize:fit:1400/1*MF1q2Q3fbpYlXX8fZUiwpA.png\">\n",
    "\n",
    "## Overview\n",
    "\n",
    "## Dataset \n",
    "\n",
    "The dataset is part of a large dataset maintained at the National Institute of Diabetes and Digestive and Kidney Diseases in the United States. It is used for a diabetes study conducted on Pima Indian women aged 21 and over living in Phoenix, the fifth largest city in the state of Arizona, USA. \n",
    "\n",
    "The dataset consists of **768 observations** and 8 numerical independent variables. The target variable is indicated as `outcome`; `1` represents a *positive diabetes test result*, and `0` represents a *negative result*.\n",
    "\n",
    "### Features \n",
    "\n",
    "- `Pregnancies`: Number of pregnancies\n",
    "- `Glucose`: Plasma glucose concentration at 2 Hours in an oral glucose tolerance test (GTIT)\n",
    "- `BloodPressure`: Diastolic Blood Pressure (mm Hg)\n",
    "- `SkinThickness`: Triceps skin fold thickness (mm)\n",
    "- `Insulin`: 2-Hour Serum insulin (uh/ml)\n",
    "- `BMI`: Body mass index [weight in kg/(Height in m)]\n",
    "- `DiabetesPedigreeFunction`: A function that calculates the likelihood of having diabetes based on our family members.\n",
    "- `Age`: Age (years)\n",
    "- `Outcome`: Information about whether the individual has diabetes or not. Affected by the disease (`1`) or not (`0`)\n",
    "\n",
    "\n",
    "## Data loading"
   ]
  },
  {
   "cell_type": "code",
   "execution_count": 1,
   "id": "2572577f",
   "metadata": {},
   "outputs": [],
   "source": [
    "## Importing Libraries \n",
    "\n",
    "# Base libraries\n",
    "import numpy as np\n",
    "import pandas as pd\n",
    "import os\n",
    "import datetime\n",
    "import warnings\n",
    "warnings.filterwarnings('ignore')\n",
    "\n",
    "# Visualisation \n",
    "import matplotlib\n",
    "import matplotlib.pyplot as plt\n",
    "import seaborn as sns\n",
    "\n",
    "# Models\n",
    "from sklearn.model_selection import train_test_split\n",
    "from sklearn import metrics\n",
    "from sklearn.metrics import accuracy_score, classification_report\n",
    "from sklearn.preprocessing import StandardScaler, MinMaxScaler\n",
    "from sklearn.neural_network import MLPClassifier\n",
    "\n",
    "## Default options and global variables\n",
    "# Set number of decimal points to float type\n",
    "pd.set_option(\"display.float_format\", lambda x: \"%.2f\" % x)\n",
    "pd.set_option('display.precision', 2)\n",
    "SEED = 2024\n"
   ]
  },
  {
   "cell_type": "code",
   "execution_count": null,
   "id": "739a263f-65fe-477e-a764-8d6441a04581",
   "metadata": {
    "execution": {
     "iopub.execute_input": "2023-10-31T12:02:57.357486Z",
     "iopub.status.busy": "2023-10-31T12:02:57.356489Z",
     "iopub.status.idle": "2023-10-31T12:02:57.371439Z",
     "shell.execute_reply": "2023-10-31T12:02:57.371439Z",
     "shell.execute_reply.started": "2023-10-31T12:02:57.357486Z"
    },
    "tags": []
   },
   "outputs": [],
   "source": [
    "# Set the data path \n",
    "DATA_PATH=\"../data/diabetes/\"\n",
    "\n",
    "# Data loading\n",
    "df = pd.read_csv(DATA_PATH + \"diabetes.csv\", index_col=None)\n",
    "\n",
    "# Data dimension \n",
    "print(\"Dataset:\",df.shape[0],\"rows,\",  df.shape[1], \"columns\")"
   ]
  },
  {
   "cell_type": "markdown",
   "id": "2ad0be67",
   "metadata": {},
   "source": [
    "## Quick exploration"
   ]
  },
  {
   "cell_type": "code",
   "execution_count": null,
   "id": "8e5e76fa",
   "metadata": {},
   "outputs": [],
   "source": [
    "# Quick exploration \n",
    "df.head()"
   ]
  },
  {
   "cell_type": "markdown",
   "id": "349f4552",
   "metadata": {},
   "source": [
    "### Target variable"
   ]
  },
  {
   "cell_type": "code",
   "execution_count": null,
   "id": "03e2da02",
   "metadata": {},
   "outputs": [],
   "source": [
    "df['Outcome'].value_counts().plot(kind='pie', autopct='%.1f%%', explode=[0,0.1]).set_title('Target variable');\n",
    "plt.ylabel(None)\n",
    "plt.show()"
   ]
  },
  {
   "cell_type": "markdown",
   "id": "83802757",
   "metadata": {},
   "source": [
    "## Pre-processing"
   ]
  },
  {
   "cell_type": "code",
   "execution_count": null,
   "id": "2e34055b",
   "metadata": {},
   "outputs": [],
   "source": [
    "# input / output\n",
    "X = df.loc[:,'Pregnancies':'Age']\n",
    "Y = df.loc[:,'Outcome']\n",
    "\n",
    "# Dataset split\n",
    "x_train, x_test, y_train, y_test = train_test_split(X, Y, test_size=0.4, random_state=SEED)\n",
    "\n",
    "print(\"Train: \", x_train.shape[0], \"rows\")\n",
    "print(\"Test : \", x_test.shape[0], \"rows\")"
   ]
  },
  {
   "cell_type": "markdown",
   "id": "7271eec3",
   "metadata": {},
   "source": [
    "## Modelling\n",
    "\n",
    "### Model definition\n",
    "\n",
    "`MLPClassifier` \n",
    "\n",
    "- `hidden_layer_sizes` : With this parameter we can specify the number of layers and the number of nodes we want to have in the Neural Network Classifier. Each element in the tuple represents the number of nodes at the ith position, where i is the index of the tuple. Thus, the length of the tuple indicates the total number of hidden layers in the neural network.\n",
    "- `max_iter`: Indicates the number of epochs.\n",
    "- `activation`: The activation function for the hidden layers.\n",
    "- `solver`: This parameter specifies the algorithm for weight optimization over the nodes."
   ]
  },
  {
   "cell_type": "code",
   "execution_count": 44,
   "id": "e08dfa72",
   "metadata": {},
   "outputs": [],
   "source": [
    "EPOCHS=100\n",
    "##  Define a model \n",
    "model = MLPClassifier(hidden_layer_sizes=(6,),\n",
    "                    random_state=SEED,\n",
    "                    verbose=True, \n",
    "                    solver='sgd' ,\n",
    "                    activation='logistic',\n",
    "                    learning_rate_init=0.1,\n",
    "                    max_iter=EPOCHS )"
   ]
  },
  {
   "cell_type": "markdown",
   "id": "abce084d",
   "metadata": {},
   "source": [
    "### Model fitting"
   ]
  },
  {
   "cell_type": "code",
   "execution_count": null,
   "id": "123e32f2",
   "metadata": {},
   "outputs": [],
   "source": [
    "# Training \n",
    "trained_model = model.fit(x_train, y_train)\n"
   ]
  },
  {
   "cell_type": "markdown",
   "id": "ce8e00de",
   "metadata": {},
   "source": [
    "### Model evaluation"
   ]
  },
  {
   "cell_type": "code",
   "execution_count": null,
   "id": "3edeeb62",
   "metadata": {},
   "outputs": [],
   "source": [
    "## Evaluation\n",
    "accuracy = trained_model.score(x_test, y_test)\n",
    "print(\"Accuracy: \", accuracy )"
   ]
  },
  {
   "cell_type": "code",
   "execution_count": null,
   "id": "d655d9cc",
   "metadata": {},
   "outputs": [],
   "source": [
    "# Loss curve\n",
    "def plot_loss_curve(model):\n",
    "    plt.plot(model.loss_curve_, label='Training loss')\n",
    "    if model.validation_scores_ != None:\n",
    "        plt.plot(model.validation_scores_, label='Validation loss')\n",
    "    plt.title(\"Loss Curve\")\n",
    "    plt.xlabel('Epochs')\n",
    "    plt.legend()\n",
    "    plt.ylabel('Loss')\n",
    "\n",
    "plot_loss_curve(trained_model)"
   ]
  },
  {
   "cell_type": "markdown",
   "id": "708f80cf",
   "metadata": {},
   "source": [
    "## Model tuning "
   ]
  }
 ],
 "metadata": {
  "kernelspec": {
   "display_name": "Python 3 (ipykernel)",
   "language": "python",
   "name": "python3"
  },
  "language_info": {
   "codemirror_mode": {
    "name": "ipython",
    "version": 3
   },
   "file_extension": ".py",
   "mimetype": "text/x-python",
   "name": "python",
   "nbconvert_exporter": "python",
   "pygments_lexer": "ipython3",
   "version": "3.9.18"
  }
 },
 "nbformat": 4,
 "nbformat_minor": 5
}
