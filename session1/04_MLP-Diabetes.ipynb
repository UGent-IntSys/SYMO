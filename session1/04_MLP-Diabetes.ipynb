{
 "cells": [
  {
   "cell_type": "markdown",
   "id": "e725e372",
   "metadata": {},
   "source": [
    "# Practical session: Multilayer Perceptron (MLP)\n",
    "\n",
    "A Multilayer Perceptron (MLP) is a class of feedforward artificial neural networks (ANN) that consists of at least three layers of nodes: an input layer, one or more hidden layers, and an output layer. It uses layers of interconnected nodes (neurons) to learn and make predictions, typically employing activation functions and backpropagation during training.\n",
    "\n",
    "<img width=\"300\" alt=\"image\" src=\"https://miro.medium.com/v2/resize:fit:1400/1*MF1q2Q3fbpYlXX8fZUiwpA.png\">\n",
    "\n",
    "## Overview\n",
    "\n",
    "## Dataset \n",
    "\n",
    "The dataset is part of a large dataset maintained at the National Institute of Diabetes and Digestive and Kidney Diseases in the United States. It is used for a diabetes study conducted on Pima Indian women aged 21 and over living in Phoenix, the fifth largest city in the state of Arizona, USA. \n",
    "\n",
    "The dataset consists of **768 observations** and 8 numerical independent variables. The target variable is indicated as `outcome`; `1` represents a *positive diabetes test result*, and `0` represents a *negative result*.\n",
    "\n",
    "### Features \n",
    "\n",
    "- `Pregnancies`: Number of pregnancies\n",
    "- `Glucose`: Plasma glucose concentration at 2 Hours in an oral glucose tolerance test (GTIT)\n",
    "- `BloodPressure`: Diastolic Blood Pressure (mm Hg)\n",
    "- `SkinThickness`: Triceps skin fold thickness (mm)\n",
    "- `Insulin`: 2-Hour Serum insulin (uh/ml)\n",
    "- `BMI`: Body mass index [weight in kg/(Height in m)]\n",
    "- `DiabetesPedigreeFunction`: A function that calculates the likelihood of having diabetes based on our family members.\n",
    "- `Age`: Age (years)\n",
    "- `Outcome`: Information about whether the individual has diabetes or not. Affected by the disease (`1`) or not (`0`)\n",
    "\n",
    "\n",
    "## Data loading"
   ]
  },
  {
   "cell_type": "code",
   "execution_count": 106,
   "id": "2572577f",
   "metadata": {},
   "outputs": [],
   "source": [
    "## Importing Libraries \n",
    "\n",
    "# Base libraries\n",
    "import numpy as np\n",
    "import pandas as pd\n",
    "import os\n",
    "import datetime\n",
    "import warnings\n",
    "warnings.filterwarnings('ignore')\n",
    "\n",
    "# Visualisation \n",
    "import matplotlib\n",
    "import matplotlib.pyplot as plt\n",
    "import seaborn as sns\n",
    "\n",
    "# Models\n",
    "from sklearn.model_selection import train_test_split\n",
    "from sklearn import metrics\n",
    "from sklearn.metrics import accuracy_score, classification_report\n",
    "from sklearn.preprocessing import StandardScaler, MinMaxScaler\n",
    "from sklearn.neural_network import MLPClassifier\n",
    "\n",
    "## Default options and global variables\n",
    "# Set number of decimal points to float type\n",
    "pd.set_option(\"display.float_format\", lambda x: \"%.2f\" % x)\n",
    "pd.set_option('display.precision', 2)\n",
    "SEED = 2024\n"
   ]
  },
  {
   "cell_type": "code",
   "execution_count": 107,
   "id": "739a263f-65fe-477e-a764-8d6441a04581",
   "metadata": {
    "execution": {
     "iopub.execute_input": "2023-10-31T12:02:57.357486Z",
     "iopub.status.busy": "2023-10-31T12:02:57.356489Z",
     "iopub.status.idle": "2023-10-31T12:02:57.371439Z",
     "shell.execute_reply": "2023-10-31T12:02:57.371439Z",
     "shell.execute_reply.started": "2023-10-31T12:02:57.357486Z"
    },
    "tags": []
   },
   "outputs": [
    {
     "name": "stdout",
     "output_type": "stream",
     "text": [
      "Dataset: 768 rows, 9 columns\n"
     ]
    }
   ],
   "source": [
    "# Set the data path \n",
    "DATA_PATH=\"../data/diabetes/\"\n",
    "\n",
    "# Data loading\n",
    "df = pd.read_csv(DATA_PATH + \"diabetes.csv\", index_col=None)\n",
    "\n",
    "# Data dimension \n",
    "print(\"Dataset:\",df.shape[0],\"rows,\",  df.shape[1], \"columns\")"
   ]
  },
  {
   "cell_type": "markdown",
   "id": "2ad0be67",
   "metadata": {},
   "source": [
    "## Quick exploration"
   ]
  },
  {
   "cell_type": "code",
   "execution_count": 108,
   "id": "8e5e76fa",
   "metadata": {},
   "outputs": [
    {
     "data": {
      "text/html": [
       "<div>\n",
       "<style scoped>\n",
       "    .dataframe tbody tr th:only-of-type {\n",
       "        vertical-align: middle;\n",
       "    }\n",
       "\n",
       "    .dataframe tbody tr th {\n",
       "        vertical-align: top;\n",
       "    }\n",
       "\n",
       "    .dataframe thead th {\n",
       "        text-align: right;\n",
       "    }\n",
       "</style>\n",
       "<table border=\"1\" class=\"dataframe\">\n",
       "  <thead>\n",
       "    <tr style=\"text-align: right;\">\n",
       "      <th></th>\n",
       "      <th>Pregnancies</th>\n",
       "      <th>Glucose</th>\n",
       "      <th>BloodPressure</th>\n",
       "      <th>SkinThickness</th>\n",
       "      <th>Insulin</th>\n",
       "      <th>BMI</th>\n",
       "      <th>DiabetesPedigreeFunction</th>\n",
       "      <th>Age</th>\n",
       "      <th>Outcome</th>\n",
       "    </tr>\n",
       "  </thead>\n",
       "  <tbody>\n",
       "    <tr>\n",
       "      <th>0</th>\n",
       "      <td>6</td>\n",
       "      <td>148</td>\n",
       "      <td>72</td>\n",
       "      <td>35</td>\n",
       "      <td>0</td>\n",
       "      <td>33.60</td>\n",
       "      <td>0.63</td>\n",
       "      <td>50</td>\n",
       "      <td>1</td>\n",
       "    </tr>\n",
       "    <tr>\n",
       "      <th>1</th>\n",
       "      <td>1</td>\n",
       "      <td>85</td>\n",
       "      <td>66</td>\n",
       "      <td>29</td>\n",
       "      <td>0</td>\n",
       "      <td>26.60</td>\n",
       "      <td>0.35</td>\n",
       "      <td>31</td>\n",
       "      <td>0</td>\n",
       "    </tr>\n",
       "    <tr>\n",
       "      <th>2</th>\n",
       "      <td>8</td>\n",
       "      <td>183</td>\n",
       "      <td>64</td>\n",
       "      <td>0</td>\n",
       "      <td>0</td>\n",
       "      <td>23.30</td>\n",
       "      <td>0.67</td>\n",
       "      <td>32</td>\n",
       "      <td>1</td>\n",
       "    </tr>\n",
       "    <tr>\n",
       "      <th>3</th>\n",
       "      <td>1</td>\n",
       "      <td>89</td>\n",
       "      <td>66</td>\n",
       "      <td>23</td>\n",
       "      <td>94</td>\n",
       "      <td>28.10</td>\n",
       "      <td>0.17</td>\n",
       "      <td>21</td>\n",
       "      <td>0</td>\n",
       "    </tr>\n",
       "    <tr>\n",
       "      <th>4</th>\n",
       "      <td>0</td>\n",
       "      <td>137</td>\n",
       "      <td>40</td>\n",
       "      <td>35</td>\n",
       "      <td>168</td>\n",
       "      <td>43.10</td>\n",
       "      <td>2.29</td>\n",
       "      <td>33</td>\n",
       "      <td>1</td>\n",
       "    </tr>\n",
       "  </tbody>\n",
       "</table>\n",
       "</div>"
      ],
      "text/plain": [
       "   Pregnancies  Glucose  BloodPressure  SkinThickness  Insulin   BMI  \\\n",
       "0            6      148             72             35        0 33.60   \n",
       "1            1       85             66             29        0 26.60   \n",
       "2            8      183             64              0        0 23.30   \n",
       "3            1       89             66             23       94 28.10   \n",
       "4            0      137             40             35      168 43.10   \n",
       "\n",
       "   DiabetesPedigreeFunction  Age  Outcome  \n",
       "0                      0.63   50        1  \n",
       "1                      0.35   31        0  \n",
       "2                      0.67   32        1  \n",
       "3                      0.17   21        0  \n",
       "4                      2.29   33        1  "
      ]
     },
     "execution_count": 108,
     "metadata": {},
     "output_type": "execute_result"
    }
   ],
   "source": [
    "# Quick exploration \n",
    "df.head()"
   ]
  },
  {
   "cell_type": "markdown",
   "id": "349f4552",
   "metadata": {},
   "source": [
    "### Target variable"
   ]
  },
  {
   "cell_type": "code",
   "execution_count": 109,
   "id": "03e2da02",
   "metadata": {},
   "outputs": [
    {
     "data": {
      "image/png": "[encoded data removed]",
      "text/plain": [
       "<Figure size 640x480 with 1 Axes>"
      ]
     },
     "metadata": {},
     "output_type": "display_data"
    }
   ],
   "source": [
    "df['Outcome'].value_counts().plot(kind='pie', autopct='%.1f%%', explode=[0,0.1]).set_title('Target variable');\n",
    "plt.ylabel(None)\n",
    "plt.show()"
   ]
  },
  {
   "cell_type": "markdown",
   "id": "83802757",
   "metadata": {},
   "source": [
    "## Pre-processing"
   ]
  },
  {
   "cell_type": "code",
   "execution_count": 110,
   "id": "2e34055b",
   "metadata": {},
   "outputs": [
    {
     "name": "stdout",
     "output_type": "stream",
     "text": [
      "Train:  460 rows\n",
      "Test :  308 rows\n"
     ]
    }
   ],
   "source": [
    "# input / output\n",
    "X = df.loc[:,'Pregnancies':'Age']\n",
    "Y = df.loc[:,'Outcome']\n",
    "\n",
    "# Dataset split\n",
    "x_train, x_test, y_train, y_test = train_test_split(X, Y, test_size=0.4, random_state=SEED)\n",
    "\n",
    "print(\"Train: \", x_train.shape[0], \"rows\")\n",
    "print(\"Test : \", x_test.shape[0], \"rows\")"
   ]
  },
  {
   "cell_type": "markdown",
   "id": "7271eec3",
   "metadata": {},
   "source": [
    "## Modelling\n",
    "\n",
    "### Model definition\n",
    "\n",
    "`MLPClassifier` \n",
    "\n",
    "- `hidden_layer_sizes` : With this parameter we can specify the number of layers and the number of nodes we want to have in the Neural Network Classifier. Each element in the tuple represents the number of nodes at the ith position, where i is the index of the tuple. Thus, the length of the tuple indicates the total number of hidden layers in the neural network.\n",
    "- `max_iter`: Indicates the number of epochs.\n",
    "- `activation`: The activation function for the hidden layers.\n",
    "- `solver`: This parameter specifies the algorithm for weight optimization over the nodes."
   ]
  },
  {
   "cell_type": "code",
   "execution_count": 127,
   "id": "e08dfa72",
   "metadata": {},
   "outputs": [],
   "source": [
    "EPOCHS=100\n",
    "##  Define a model \n",
    "model = MLPClassifier(hidden_layer_sizes=(6,),\n",
    "                    random_state=SEED,\n",
    "                    verbose=True, \n",
    "                    solver='sgd' ,\n",
    "                    activation='logistic',\n",
    "                    learning_rate_init=0.1,\n",
    "                    max_iter=EPOCHS )"
   ]
  },
  {
   "cell_type": "markdown",
   "id": "abce084d",
   "metadata": {},
   "source": [
    "### Model fitting"
   ]
  },
  {
   "cell_type": "code",
   "execution_count": 128,
   "id": "123e32f2",
   "metadata": {},
   "outputs": [
    {
     "name": "stdout",
     "output_type": "stream",
     "text": [
      "Iteration 1, loss = 0.65627149\n",
      "Iteration 2, loss = 0.63736174\n",
      "Iteration 3, loss = 0.65752808\n",
      "Iteration 4, loss = 0.64836338\n",
      "Iteration 5, loss = 0.64881691\n",
      "Iteration 6, loss = 0.64722462\n",
      "Iteration 7, loss = 0.64651123\n",
      "Iteration 8, loss = 0.64713039\n",
      "Iteration 9, loss = 0.64651809\n",
      "Iteration 10, loss = 0.64619225\n",
      "Iteration 11, loss = 0.64335868\n",
      "Iteration 12, loss = 0.64145287\n",
      "Iteration 13, loss = 0.64297983\n",
      "Training loss did not improve more than tol=0.000100 for 10 consecutive epochs. Stopping.\n"
     ]
    }
   ],
   "source": [
    "# Training \n",
    "trained_model = model.fit(x_train, y_train)\n"
   ]
  },
  {
   "cell_type": "markdown",
   "id": "ce8e00de",
   "metadata": {},
   "source": [
    "### Model evaluation"
   ]
  },
  {
   "cell_type": "code",
   "execution_count": 129,
   "id": "3edeeb62",
   "metadata": {},
   "outputs": [
    {
     "name": "stdout",
     "output_type": "stream",
     "text": [
      "Accuracy:  0.6558441558441559\n"
     ]
    }
   ],
   "source": [
    "## Evaluation\n",
    "accuracy = trained_model.score(x_test, y_test)\n",
    "print(\"Accuracy: \", accuracy )"
   ]
  },
  {
   "cell_type": "code",
   "execution_count": 130,
   "id": "d655d9cc",
   "metadata": {},
   "outputs": [
    {
     "data": {
      "image/png": "[encoded data removed]",
      "text/plain": [
       "<Figure size 640x480 with 1 Axes>"
      ]
     },
     "metadata": {},
     "output_type": "display_data"
    }
   ],
   "source": [
    "# Loss curve\n",
    "def plot_loss_curve(model):\n",
    "    plt.plot(model.loss_curve_, label='Training loss')\n",
    "    if model.validation_scores_ != None:\n",
    "        plt.plot(model.validation_scores_, label='Validation loss')\n",
    "    plt.title(\"Loss Curve\")\n",
    "    plt.xlabel('Epochs')\n",
    "    plt.legend()\n",
    "    plt.ylabel('Loss')\n",
    "\n",
    "plot_loss_curve(trained_model)"
   ]
  },
  {
   "cell_type": "markdown",
   "id": "708f80cf",
   "metadata": {},
   "source": [
    "## Model improvements \n",
    "\n",
    "..."
   ]
  }
 ],
 "metadata": {
  "kernelspec": {
   "display_name": "Python 3 (ipykernel)",
   "language": "python",
   "name": "python3"
  },
  "language_info": {
   "codemirror_mode": {
    "name": "ipython",
    "version": 3
   },
   "file_extension": ".py",
   "mimetype": "text/x-python",
   "name": "python",
   "nbconvert_exporter": "python",
   "pygments_lexer": "ipython3",
   "version": "3.9.18"
  }
 },
 "nbformat": 4,
 "nbformat_minor": 5
}
