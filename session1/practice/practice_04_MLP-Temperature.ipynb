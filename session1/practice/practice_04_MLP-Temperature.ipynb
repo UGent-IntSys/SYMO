{
 "cells": [
  {
   "cell_type": "markdown",
   "metadata": {},
   "source": [
    "# Practical session: Multilayer Perceptron (MLP) - Temperature\n",
    "\n",
    "A Multilayer Perceptron (MLP) is a class of feedforward artificial neural networks (ANN) that consists of at least three layers of nodes: an input layer, one or more hidden layers, and an output layer. It uses layers of interconnected nodes (neurons) to learn and make predictions, typically employing activation functions and backpropagation during training.\n",
    "\n",
    "<img width=\"300\" alt=\"image\" src=\"https://miro.medium.com/v2/resize:fit:1400/1*MF1q2Q3fbpYlXX8fZUiwpA.png\">\n",
    "\n",
    "\n",
    "## Dataset \n",
    "\n",
    "- Folder: `temperature-AM`\n",
    "- File: `Temperature.csv`"
   ]
  }
 ],
 "metadata": {
  "language_info": {
   "name": "python"
  }
 },
 "nbformat": 4,
 "nbformat_minor": 2
}
