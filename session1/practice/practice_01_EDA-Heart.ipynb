{
 "cells": [
  {
   "cell_type": "markdown",
   "id": "a2a274a9",
   "metadata": {},
   "source": [
    "# Practical session: Exploratory Data Analysis (EDA) - Heart disease \n",
    "\n",
    "The main purpose of EDA is to help look at data before making any assumptions. It can help to:\n",
    "- identify obvious errors,\n",
    "- understand patterns,\n",
    "- detect outliers or anomalous events, \n",
    "- find relations among the variables.\n",
    "\n",
    "## Dataset\n",
    "\n",
    "This data set dates from 1988 and consists of four databases: Cleveland, Hungary, Switzerland, and Long Beach V. It contains 76 attributes, including the predicted attribute, but all published experiments refer to using a subset of 14 of them. The \"target\" field refers to the presence of heart disease in the patient. It is integer valued 0 = no disease and 1 = disease.\n",
    "\n",
    "This dataset contains 14 columns that represent the following features:\n",
    "\n",
    "- `age`: age\n",
    "- `sex`: gender: 1 - male, 0 - female\n",
    "- `cp`: type of chest pain (0 - typical angina; 1 - atypical angina; 2 - not angina; 3 - no symptoms\n",
    "- `trestbps`: resting blood pressure\n",
    "- `chol`: cholesterol\n",
    "- `fbs`: fasting glucose level\n",
    "- `restecg`: ECG (0 = normal, 1 = abnormal ST-T, 2 = according to the Estes standard, showing possible or definite hypertrophy of the left ventricle, severe condition)\n",
    "- `thalach`: maximum heart rate\n",
    "- `exang`: exercise-induced angina pectoris (1 - yes; 0 - no)\n",
    "- `oldpeak`: ST segment suppression caused by exercise relative to rest\n",
    "- `slope`: electro cardiogram of the heart at maximum load (1 = ascent, 2 = smooth, 3 = descent)\n",
    "- `ca`: the number of major blood vessels with a fluorescent color (0-4). Fluorescent color is mainly associated with diabetes\n",
    "- `thal`: a blood disorder called thalassemia (3 = normal; 6 = fixed defect; 7 = reversible defect)\n",
    "- `target`: presence of heart disease in the patient (0 - no; 1 - yes)"
   ]
  },
  {
   "cell_type": "code",
   "execution_count": 1,
   "id": "6f1573af-f745-43ab-aeab-f28663ddb7b5",
   "metadata": {
    "execution": {
     "iopub.execute_input": "2023-10-31T12:02:56.640382Z",
     "iopub.status.busy": "2023-10-31T12:02:56.640382Z",
     "iopub.status.idle": "2023-10-31T12:02:57.355495Z",
     "shell.execute_reply": "2023-10-31T12:02:57.355495Z",
     "shell.execute_reply.started": "2023-10-31T12:02:56.640382Z"
    },
    "tags": []
   },
   "outputs": [],
   "source": [
    "## Importing Libraries \n",
    "\n",
    "# Base libraries\n",
    "import os\n",
    "import pandas as pd\n",
    "import numpy as np\n",
    "import warnings\n",
    "warnings.filterwarnings('ignore')\n",
    "\n",
    "# Visualisation \n",
    "import seaborn as sns\n",
    "import matplotlib.pyplot as plt\n",
    "%matplotlib inline\n",
    "\n",
    "## Default options \n",
    "pd.set_option(\"display.float_format\", lambda x: \"%.2f\" % x)"
   ]
  },
  {
   "cell_type": "markdown",
   "id": "6faba02d-2544-463a-92af-6f4835d5e7c7",
   "metadata": {
    "execution": {
     "iopub.execute_input": "2023-10-31T09:05:28.301567Z",
     "iopub.status.busy": "2023-10-31T09:05:28.301567Z",
     "iopub.status.idle": "2023-10-31T09:05:28.312509Z",
     "shell.execute_reply": "2023-10-31T09:05:28.312509Z",
     "shell.execute_reply.started": "2023-10-31T09:05:28.301567Z"
    },
    "tags": []
   },
   "source": [
    "## Data loading\n",
    "\n",
    "- Folder: `heart` \n",
    "- File: `heart.csv`"
   ]
  },
  {
   "cell_type": "markdown",
   "id": "d71fca66",
   "metadata": {},
   "source": [
    "## Data overview"
   ]
  },
  {
   "cell_type": "markdown",
   "id": "d5546693",
   "metadata": {},
   "source": [
    "### Variables\n",
    "\n",
    "#### Independent Variable \n",
    "\n",
    "*aka:* `Feature, Independent, Input, Column, Predictor, Explanatory`\n",
    "\n",
    "Other variables that are assumed to influence the dependent variable.\n",
    "\n",
    "#### Dependent Variable\n",
    "\n",
    "*aka:* `Target, Dependent, Output, Response`\n",
    "\n",
    "#### Variables types\n",
    "\n",
    "- `Numeric Variables`: temperature, age, square footage, price, etc.\n",
    "- `Categorical Variables` (Nominal, Ordinal): gender (nominal), survival status (nominal), football teams (nominal), educational level (ordinal)"
   ]
  },
  {
   "cell_type": "markdown",
   "id": "7097f8c0",
   "metadata": {},
   "source": [
    "## Statistics  \n"
   ]
  },
  {
   "cell_type": "markdown",
   "id": "ae1c814b",
   "metadata": {},
   "source": [
    "## Target variable"
   ]
  },
  {
   "cell_type": "markdown",
   "id": "a359910c",
   "metadata": {},
   "source": [
    "## Feature analysis"
   ]
  },
  {
   "cell_type": "markdown",
   "id": "8c5bf80b",
   "metadata": {},
   "source": [
    "## Correlation between features\n",
    "\n",
    "- `POSITIVE CORRELATION`: If an increase in feature A leads to increase in feature B, then they are **positively correlated**. A value 1 means perfect positive correlation.\n",
    "- `NEGATIVE CORRELATION`: If an increase in feature A leads to decrease in feature B, then they are **negatively correlated**. A value -1 means perfect negative correlation.\n",
    "\n",
    "        Attention: Lets say that two features are highly or perfectly correlated, so the increase in one leads to increase in the other. This means that both the features are containing highly similar information and there is very little or no variance in information. This is known as **MultiColinearity** as both of them contains almost the same information.\n",
    "\n",
    "*Note: Only numeric features*"
   ]
  },
  {
   "cell_type": "markdown",
   "id": "efc618cf",
   "metadata": {},
   "source": [
    "## Multivariate analysis"
   ]
  },
  {
   "cell_type": "markdown",
   "id": "5e4678a5",
   "metadata": {},
   "source": [
    "## Outliers\n",
    "\n",
    "An Outlier is a data item/object that deviates significantly from the rest of the (so-called normal) objects.\n",
    "\n",
    "<img width=\"300\" alt=\"image\" src=\"https://www.researchgate.net/publication/353410712/figure/fig1/AS:1048732418203648@1627048701501/Removal-of-outliers-using-IQR-method.png\">\n",
    "\n",
    "Inter-Quartile Range\n",
    "\n",
    "```\n",
    "IQR = Q3 - Q1\n",
    "```\n",
    "\n",
    "To detect the outliers using this method, we define a new range, let’s call it decision range, and any data point lying outside this range is considered as outlier and is accordingly dealt with. The range is as given below:\n",
    "\n",
    "```\n",
    "Lower Bound: (Q1 - 1.5 * IQR)\n",
    "Upper Bound: (Q3 + 1.5 * IQR)\n",
    "```\n",
    "Any data point less than the Lower Bound or more than the Upper Bound is considered as an outlier.\n",
    "\n"
   ]
  }
 ],
 "metadata": {
  "kernelspec": {
   "display_name": "Python 3 (ipykernel)",
   "language": "python",
   "name": "python3"
  },
  "language_info": {
   "codemirror_mode": {
    "name": "ipython",
    "version": 3
   },
   "file_extension": ".py",
   "mimetype": "text/x-python",
   "name": "python",
   "nbconvert_exporter": "python",
   "pygments_lexer": "ipython3",
   "version": "3.9.18"
  }
 },
 "nbformat": 4,
 "nbformat_minor": 5
}
