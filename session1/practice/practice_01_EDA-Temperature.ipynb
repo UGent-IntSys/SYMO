{
 "cells": [
  {
   "cell_type": "markdown",
   "id": "a2a274a9",
   "metadata": {},
   "source": [
    "# Practical session: Exploratory Data Analysis (EDA) - Temperature\n",
    "\n",
    "The main purpose of EDA is to help look at data before making any assumptions. It can help to:\n",
    "- identify obvious errors,\n",
    "- understand patterns,\n",
    "- detect outliers or anomalous events, \n",
    "- find relations among the variables."
   ]
  },
  {
   "cell_type": "code",
   "execution_count": 2,
   "id": "6f1573af-f745-43ab-aeab-f28663ddb7b5",
   "metadata": {
    "execution": {
     "iopub.execute_input": "2023-10-31T12:02:56.640382Z",
     "iopub.status.busy": "2023-10-31T12:02:56.640382Z",
     "iopub.status.idle": "2023-10-31T12:02:57.355495Z",
     "shell.execute_reply": "2023-10-31T12:02:57.355495Z",
     "shell.execute_reply.started": "2023-10-31T12:02:56.640382Z"
    },
    "tags": []
   },
   "outputs": [],
   "source": [
    "## Importing Libraries \n",
    "\n",
    "# Base libraries\n",
    "import os\n",
    "import pandas as pd\n",
    "import numpy as np\n",
    "import warnings\n",
    "warnings.filterwarnings('ignore')\n",
    "\n",
    "# Visualisation \n",
    "import seaborn as sns\n",
    "import matplotlib.pyplot as plt\n",
    "%matplotlib inline\n",
    "\n",
    "## Default options \n",
    "pd.set_option(\"display.float_format\", lambda x: \"%.2f\" % x)"
   ]
  },
  {
   "cell_type": "markdown",
   "id": "fb023cc5",
   "metadata": {},
   "source": [
    "## Dataset\n",
    "\n",
    "- Folder: `temperature-AM`\n",
    "- File: `temperature.csv`"
   ]
  },
  {
   "cell_type": "markdown",
   "id": "5c403e8c",
   "metadata": {},
   "source": [
    "## Data overview"
   ]
  },
  {
   "cell_type": "markdown",
   "id": "5bf84960",
   "metadata": {},
   "source": [
    "### Variables\n",
    "\n",
    "#### Independent Variable \n",
    "\n",
    "*aka:* `Feature, Independent, Input, Column, Predictor, Explanatory`\n",
    "\n",
    "Other variables that are assumed to influence the dependent variable.\n",
    "\n",
    "#### Dependent Variable\n",
    "\n",
    "*aka:* `Target, Dependent, Output, Response`\n",
    "\n",
    "#### Variables types\n",
    "\n",
    "- `Numeric Variables`: temperature, age, square footage, price, etc.\n",
    "- `Categorical Variables` (Nominal, Ordinal): gender (nominal), survival status (nominal), football teams (nominal), educational level (ordinal)"
   ]
  },
  {
   "cell_type": "markdown",
   "id": "c16eb9bd",
   "metadata": {},
   "source": [
    "### Null values"
   ]
  },
  {
   "cell_type": "markdown",
   "id": "b7429354",
   "metadata": {},
   "source": [
    "### Duplicates"
   ]
  },
  {
   "cell_type": "markdown",
   "id": "7097f8c0",
   "metadata": {},
   "source": [
    "## Descriptive Statistics  \n"
   ]
  },
  {
   "cell_type": "markdown",
   "id": "2160981d",
   "metadata": {},
   "source": [
    "## Target variable"
   ]
  },
  {
   "cell_type": "markdown",
   "id": "d43eab82",
   "metadata": {},
   "source": [
    "## Feature analysis"
   ]
  },
  {
   "cell_type": "markdown",
   "id": "7f7cac72",
   "metadata": {},
   "source": [
    "## Correlation between features\n",
    "\n",
    "- `POSITIVE CORRELATION`: If an increase in feature A leads to increase in feature B, then they are **positively correlated**. A value 1 means perfect positive correlation.\n",
    "- `NEGATIVE CORRELATION`: If an increase in feature A leads to decrease in feature B, then they are **negatively correlated**. A value -1 means perfect negative correlation.\n",
    "\n",
    "        Attention: Lets say that two features are highly or perfectly correlated, so the increase in one leads to increase in the other. This means that both the features are containing highly similar information and there is very little or no variance in information. This is known as MultiColinearity as both of them contains almost the same information.\n",
    "\n",
    "*Note: Only numeric features*"
   ]
  },
  {
   "cell_type": "markdown",
   "id": "d3c1bd41",
   "metadata": {},
   "source": [
    "## Multivariate analysis"
   ]
  }
 ],
 "metadata": {
  "kernelspec": {
   "display_name": "Python 3 (ipykernel)",
   "language": "python",
   "name": "python3"
  },
  "language_info": {
   "codemirror_mode": {
    "name": "ipython",
    "version": 3
   },
   "file_extension": ".py",
   "mimetype": "text/x-python",
   "name": "python",
   "nbconvert_exporter": "python",
   "pygments_lexer": "ipython3",
   "version": "3.9.18"
  }
 },
 "nbformat": 4,
 "nbformat_minor": 5
}
