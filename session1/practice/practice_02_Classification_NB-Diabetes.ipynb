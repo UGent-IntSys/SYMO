{
 "cells": [
  {
   "cell_type": "markdown",
   "metadata": {},
   "source": [
    "# Practical session: Naive Bayesian (NB) Classifier - Diabetes\n",
    "\n",
    "Naive Bayesian Classifier calculates the probability of a class given input features, assuming feature independence. It selects the class with the highest probability.\n",
    "\n",
    "Naive Bayes applies the Bayes' theorem to calculate the probability of a data point belonging to a particular class. Given the probability of certain related values, the formula to calculate the probability of an event $B$, given event $A$ to occur is calculated as follows.\n",
    "\n",
    "$P(B|A) = (P(A|B) * P(B) / P(A))$\n",
    "\n",
    "This theory is considered naive, because it assumes that there is no dependency between any of the input features. Even with this not true or naive assumption, the Naive Bayes algorithm has been proven to perform really well in certain use cases like spam filters.\n",
    "\n",
    "## Dataset \n",
    "\n",
    "The dataset is part of a large dataset maintained at the National Institute of Diabetes and Digestive and Kidney Diseases in the United States. It is used for a diabetes study conducted on Pima Indian women aged 21 and over living in Phoenix, the fifth largest city in the state of Arizona, USA. \n",
    "\n",
    "The dataset consists of **768 observations** and 8 numerical independent variables. The target variable is indicated as `outcome`; `1` represents a *positive diabetes test result*, and `0` represents a *negative result*.\n",
    "\n",
    "### Features \n",
    "\n",
    "- `Pregnancies`: Number of pregnancies\n",
    "- `Glucose`: Plasma glucose concentration at 2 Hours in an oral glucose tolerance test (GTIT)\n",
    "- `BloodPressure`: Diastolic Blood Pressure (mm Hg)\n",
    "- `SkinThickness`: Triceps skin fold thickness (mm)\n",
    "- `Insulin`: 2-Hour Serum insulin (uh/ml)\n",
    "- `BMI`: Body mass index [weight in kg/(Height in m)]\n",
    "- `DiabetesPedigreeFunction`: A function that calculates the likelihood of having diabetes based on our family members.\n",
    "- `Age`: Age (years)\n",
    "- `Outcome`: Information about whether the individual has diabetes or not. Affected by the disease (`1`) or not (`0`)"
   ]
  }
 ],
 "metadata": {
  "language_info": {
   "name": "python"
  }
 },
 "nbformat": 4,
 "nbformat_minor": 2
}
