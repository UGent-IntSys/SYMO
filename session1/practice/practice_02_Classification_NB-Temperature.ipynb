{
 "cells": [
  {
   "cell_type": "markdown",
   "metadata": {},
   "source": [
    "# Practical session: Naive Bayesian (NB) Classifier - Temperature\n",
    "\n",
    "Naive Bayesian Classifier calculates the probability of a class given input features, assuming feature independence. It selects the class with the highest probability.\n",
    "\n",
    "Naive Bayes applies the Bayes' theorem to calculate the probability of a data point belonging to a particular class. Given the probability of certain related values, the formula to calculate the probability of an event $B$, given event $A$ to occur is calculated as follows.\n",
    "\n",
    "$P(B|A) = (P(A|B) * P(B) / P(A))$\n",
    "\n",
    "This theory is considered naive, because it assumes that there is no dependency between any of the input features. Even with this not true or naive assumption, the Naive Bayes algorithm has been proven to perform really well in certain use cases like spam filters.\n",
    "\n",
    "## Dataset \n",
    "\n",
    "- Folder: `temperature-AM`\n",
    "- File: `Temperature.csv`"
   ]
  }
 ],
 "metadata": {
  "language_info": {
   "name": "python"
  }
 },
 "nbformat": 4,
 "nbformat_minor": 2
}
