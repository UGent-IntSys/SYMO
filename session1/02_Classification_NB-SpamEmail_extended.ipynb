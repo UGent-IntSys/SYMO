{
 "cells": [
  {
   "cell_type": "markdown",
   "id": "4d876b23",
   "metadata": {},
   "source": [
    "# Practical session: Naive Bayesian Classifier - Spam emails\n",
    "\n",
    "Naive Bayesian Classifier calculates the probability of a class given input features, assuming feature independence. It selects the class with the highest probability.\n",
    "\n",
    "Naive Bayes applies the Bayes' theorem to calculate the probability of a data point belonging to a particular class. Given the probability of certain related values, the formula to calculate the probability of an event $B$, given event $A$ to occur is calculated as follows.\n",
    "\n",
    "$P(B|A) = (P(A|B) * P(B) / P(A))$\n",
    "\n",
    "This theory is considered naive, because it assumes that there is no dependency between any of the input features. Even with this not true or naive assumption, the Naive Bayes algorithm has been proven to perform really well in certain use cases like spam filters."
   ]
  },
  {
   "cell_type": "code",
   "execution_count": 3,
   "id": "6f1573af-f745-43ab-aeab-f28663ddb7b5",
   "metadata": {
    "execution": {
     "iopub.execute_input": "2023-10-31T12:02:56.640382Z",
     "iopub.status.busy": "2023-10-31T12:02:56.640382Z",
     "iopub.status.idle": "2023-10-31T12:02:57.355495Z",
     "shell.execute_reply": "2023-10-31T12:02:57.355495Z",
     "shell.execute_reply.started": "2023-10-31T12:02:56.640382Z"
    },
    "tags": []
   },
   "outputs": [],
   "source": [
    "## Importing Libraries \n",
    "\n",
    "# Base libraries\n",
    "import numpy as np\n",
    "import pandas as pd\n",
    "import os\n",
    "import datetime\n",
    "import warnings\n",
    "warnings.filterwarnings('ignore')\n",
    "\n",
    "# Visualisation \n",
    "import matplotlib\n",
    "import matplotlib.pyplot as plt\n",
    "import seaborn as sns\n",
    "\n",
    "# Preprocessing \n",
    "from sklearn.feature_extraction.text import CountVectorizer\n",
    "from sklearn.preprocessing import StandardScaler\n",
    "from sklearn.model_selection import train_test_split\n",
    "from sklearn import metrics\n",
    "\n",
    "# Modelling\n",
    "from sklearn.naive_bayes import GaussianNB, MultinomialNB\n",
    "\n",
    "## Default options and global variables\n",
    "pd.set_option(\"display.float_format\", lambda x: \"%.2f\" % x)"
   ]
  },
  {
   "cell_type": "markdown",
   "id": "6faba02d-2544-463a-92af-6f4835d5e7c7",
   "metadata": {
    "execution": {
     "iopub.execute_input": "2023-10-31T09:05:28.301567Z",
     "iopub.status.busy": "2023-10-31T09:05:28.301567Z",
     "iopub.status.idle": "2023-10-31T09:05:28.312509Z",
     "shell.execute_reply": "2023-10-31T09:05:28.312509Z",
     "shell.execute_reply.started": "2023-10-31T09:05:28.301567Z"
    },
    "tags": []
   },
   "source": [
    "## Dataset"
   ]
  },
  {
   "cell_type": "code",
   "execution_count": 4,
   "id": "739a263f-65fe-477e-a764-8d6441a04581",
   "metadata": {
    "execution": {
     "iopub.execute_input": "2023-10-31T12:02:57.357486Z",
     "iopub.status.busy": "2023-10-31T12:02:57.356489Z",
     "iopub.status.idle": "2023-10-31T12:02:57.371439Z",
     "shell.execute_reply": "2023-10-31T12:02:57.371439Z",
     "shell.execute_reply.started": "2023-10-31T12:02:57.357486Z"
    },
    "tags": []
   },
   "outputs": [
    {
     "name": "stdout",
     "output_type": "stream",
     "text": [
      "['spam_email.csv.zip']\n"
     ]
    }
   ],
   "source": [
    "# Set the data path \n",
    "DATA_PATH=\"../data/spam/\"\n",
    "DATA_FILE=\"spam_email.csv.zip\"\n",
    "print(os.listdir(DATA_PATH))\n",
    "\n",
    "# read the datafile\n",
    "df = pd.read_csv(DATA_PATH + DATA_FILE)"
   ]
  },
  {
   "cell_type": "code",
   "execution_count": 5,
   "id": "ebe54595",
   "metadata": {},
   "outputs": [
    {
     "name": "stdout",
     "output_type": "stream",
     "text": [
      "dataset: 83448 rows, 2 columns\n"
     ]
    }
   ],
   "source": [
    "## Quick exploration\n",
    "# Dataset dimensions\n",
    "print(\"dataset:\", df.shape[0],\"rows,\", df.shape[1], \"columns\")"
   ]
  },
  {
   "cell_type": "code",
   "execution_count": 6,
   "id": "ad6ef32d",
   "metadata": {},
   "outputs": [
    {
     "data": {
      "text/html": [
       "<div>\n",
       "<style scoped>\n",
       "    .dataframe tbody tr th:only-of-type {\n",
       "        vertical-align: middle;\n",
       "    }\n",
       "\n",
       "    .dataframe tbody tr th {\n",
       "        vertical-align: top;\n",
       "    }\n",
       "\n",
       "    .dataframe thead th {\n",
       "        text-align: right;\n",
       "    }\n",
       "</style>\n",
       "<table border=\"1\" class=\"dataframe\">\n",
       "  <thead>\n",
       "    <tr style=\"text-align: right;\">\n",
       "      <th></th>\n",
       "      <th>label</th>\n",
       "      <th>text</th>\n",
       "    </tr>\n",
       "  </thead>\n",
       "  <tbody>\n",
       "    <tr>\n",
       "      <th>0</th>\n",
       "      <td>1</td>\n",
       "      <td>ounce feather bowl hummingbird opec moment ala...</td>\n",
       "    </tr>\n",
       "    <tr>\n",
       "      <th>1</th>\n",
       "      <td>1</td>\n",
       "      <td>wulvob get your medircations online qnb ikud v...</td>\n",
       "    </tr>\n",
       "    <tr>\n",
       "      <th>2</th>\n",
       "      <td>0</td>\n",
       "      <td>computer connection from cnn com wednesday es...</td>\n",
       "    </tr>\n",
       "    <tr>\n",
       "      <th>3</th>\n",
       "      <td>1</td>\n",
       "      <td>university degree obtain a prosperous future m...</td>\n",
       "    </tr>\n",
       "    <tr>\n",
       "      <th>4</th>\n",
       "      <td>0</td>\n",
       "      <td>thanks for all your answers guys i know i shou...</td>\n",
       "    </tr>\n",
       "  </tbody>\n",
       "</table>\n",
       "</div>"
      ],
      "text/plain": [
       "   label                                               text\n",
       "0      1  ounce feather bowl hummingbird opec moment ala...\n",
       "1      1  wulvob get your medircations online qnb ikud v...\n",
       "2      0   computer connection from cnn com wednesday es...\n",
       "3      1  university degree obtain a prosperous future m...\n",
       "4      0  thanks for all your answers guys i know i shou..."
      ]
     },
     "execution_count": 6,
     "metadata": {},
     "output_type": "execute_result"
    }
   ],
   "source": [
    "df.head(5)"
   ]
  },
  {
   "cell_type": "code",
   "execution_count": 7,
   "id": "b845b864",
   "metadata": {},
   "outputs": [
    {
     "data": {
      "text/html": [
       "<div>\n",
       "<style scoped>\n",
       "    .dataframe tbody tr th:only-of-type {\n",
       "        vertical-align: middle;\n",
       "    }\n",
       "\n",
       "    .dataframe tbody tr th {\n",
       "        vertical-align: top;\n",
       "    }\n",
       "\n",
       "    .dataframe thead th {\n",
       "        text-align: right;\n",
       "    }\n",
       "</style>\n",
       "<table border=\"1\" class=\"dataframe\">\n",
       "  <thead>\n",
       "    <tr style=\"text-align: right;\">\n",
       "      <th></th>\n",
       "      <th>label</th>\n",
       "      <th>text</th>\n",
       "    </tr>\n",
       "  </thead>\n",
       "  <tbody>\n",
       "    <tr>\n",
       "      <th>83443</th>\n",
       "      <td>0</td>\n",
       "      <td>hi given a date how do i get the last date of ...</td>\n",
       "    </tr>\n",
       "    <tr>\n",
       "      <th>83444</th>\n",
       "      <td>1</td>\n",
       "      <td>now you can order software on cd or download i...</td>\n",
       "    </tr>\n",
       "    <tr>\n",
       "      <th>83445</th>\n",
       "      <td>1</td>\n",
       "      <td>dear valued member canadianpharmacy provides a...</td>\n",
       "    </tr>\n",
       "    <tr>\n",
       "      <th>83446</th>\n",
       "      <td>0</td>\n",
       "      <td>subscribe change profile contact us long term ...</td>\n",
       "    </tr>\n",
       "    <tr>\n",
       "      <th>83447</th>\n",
       "      <td>1</td>\n",
       "      <td>get the most out of life ! viagra has helped m...</td>\n",
       "    </tr>\n",
       "  </tbody>\n",
       "</table>\n",
       "</div>"
      ],
      "text/plain": [
       "       label                                               text\n",
       "83443      0  hi given a date how do i get the last date of ...\n",
       "83444      1  now you can order software on cd or download i...\n",
       "83445      1  dear valued member canadianpharmacy provides a...\n",
       "83446      0  subscribe change profile contact us long term ...\n",
       "83447      1  get the most out of life ! viagra has helped m..."
      ]
     },
     "execution_count": 7,
     "metadata": {},
     "output_type": "execute_result"
    }
   ],
   "source": [
    "df.tail()"
   ]
  },
  {
   "cell_type": "code",
   "execution_count": 8,
   "id": "238a483c",
   "metadata": {},
   "outputs": [
    {
     "name": "stdout",
     "output_type": "stream",
     "text": [
      "<class 'pandas.core.frame.DataFrame'>\n",
      "RangeIndex: 83448 entries, 0 to 83447\n",
      "Data columns (total 2 columns):\n",
      " #   Column  Non-Null Count  Dtype \n",
      "---  ------  --------------  ----- \n",
      " 0   label   83448 non-null  int64 \n",
      " 1   text    83448 non-null  object\n",
      "dtypes: int64(1), object(1)\n",
      "memory usage: 1.3+ MB\n"
     ]
    }
   ],
   "source": [
    "df.info()"
   ]
  },
  {
   "cell_type": "markdown",
   "id": "ed6c1c4c",
   "metadata": {
    "execution": {
     "iopub.execute_input": "2023-10-31T12:02:58.296354Z",
     "iopub.status.busy": "2023-10-31T12:02:58.296354Z",
     "iopub.status.idle": "2023-10-31T12:02:58.311306Z",
     "shell.execute_reply": "2023-10-31T12:02:58.311306Z",
     "shell.execute_reply.started": "2023-10-31T12:02:58.296354Z"
    }
   },
   "source": [
    "## Preprocessing"
   ]
  },
  {
   "cell_type": "code",
   "execution_count": 9,
   "metadata": {},
   "outputs": [
    {
     "name": "stdout",
     "output_type": "stream",
     "text": [
      "(83448,) (83448,)\n",
      "0        ounce feather bowl hummingbird opec moment ala...\n",
      "1        wulvob get your medircations online qnb ikud v...\n",
      "2         computer connection from cnn com wednesday es...\n",
      "3        university degree obtain a prosperous future m...\n",
      "4        thanks for all your answers guys i know i shou...\n",
      "                               ...                        \n",
      "83443    hi given a date how do i get the last date of ...\n",
      "83444    now you can order software on cd or download i...\n",
      "83445    dear valued member canadianpharmacy provides a...\n",
      "83446    subscribe change profile contact us long term ...\n",
      "83447    get the most out of life ! viagra has helped m...\n",
      "Name: text, Length: 83448, dtype: object\n"
     ]
    }
   ],
   "source": [
    "# Independent variables / inputs\n",
    "x = df.loc[:,'text']\n",
    "# Dependent variable / output\n",
    "y = df.loc[:,'label'] \n",
    "print(x.shape, y.shape)\n",
    "print(x)\n"
   ]
  },
  {
   "cell_type": "markdown",
   "metadata": {},
   "source": [
    "### Text processing\n",
    "\n",
    "Machines cannot inherently understand characters or words. Therefore, when working with text data, we must represent it in numerical form for the machine to process. One simple method for converting text into numerical data is called `CountVectorizer`\n",
    "\n",
    "`CountVectorizer` transforms a collection of text documents into a matrix of token counts. Each unique word (or token) in the text is counted, and the resulting matrix represents the frequency of these words across all documents."
   ]
  },
  {
   "cell_type": "code",
   "execution_count": 10,
   "metadata": {},
   "outputs": [
    {
     "name": "stdout",
     "output_type": "stream",
     "text": [
      "Features : 310813\n"
     ]
    }
   ],
   "source": [
    "## Text processing\n",
    "# Count Vectorization ( Converting text into features ) -> Count of each word\n",
    "vectorizer = CountVectorizer()\n",
    "x = vectorizer.fit_transform(x)   \n",
    "print(\"Features :\", len(vectorizer.get_feature_names_out()))"
   ]
  },
  {
   "cell_type": "markdown",
   "id": "c902ffc1",
   "metadata": {},
   "source": [
    "## Modelling"
   ]
  },
  {
   "cell_type": "markdown",
   "id": "58cbbf66",
   "metadata": {},
   "source": [
    "### Data splitting "
   ]
  },
  {
   "cell_type": "code",
   "execution_count": 44,
   "metadata": {},
   "outputs": [
    {
     "name": "stdout",
     "output_type": "stream",
     "text": [
      "(58413, 310813) (25035, 310813)\n"
     ]
    }
   ],
   "source": [
    "## Split dataset \n",
    "x_train, x_test, y_train, y_test = train_test_split(x, y, test_size = 0.3)\n",
    "print(x_train.shape, x_test.shape)"
   ]
  },
  {
   "cell_type": "code",
   "execution_count": 45,
   "id": "bf6ae2cc",
   "metadata": {},
   "outputs": [
    {
     "name": "stdout",
     "output_type": "stream",
     "text": [
      "Dataset:\n",
      " label\n",
      "1   0.53\n",
      "0   0.47\n",
      "Name: count, dtype: float64\n",
      "Train:\n",
      " label\n",
      "1   0.53\n",
      "0   0.47\n",
      "Name: count, dtype: float64\n",
      "Test:\n",
      " label\n",
      "1   0.53\n",
      "0   0.47\n",
      "Name: count, dtype: float64\n"
     ]
    }
   ],
   "source": [
    "# Check stratification\n",
    "print(\"Dataset:\\n\", y.value_counts()/len(y))\n",
    "print(\"Train:\\n\", y_train.value_counts()/len(y_train))\n",
    "print(\"Test:\\n\", y_test.value_counts()/len(y_test))"
   ]
  },
  {
   "cell_type": "markdown",
   "id": "ced02066",
   "metadata": {},
   "source": [
    "### Model fitting"
   ]
  },
  {
   "cell_type": "code",
   "execution_count": 14,
   "metadata": {},
   "outputs": [
    {
     "data": {
      "text/html": [
       "<style>#sk-container-id-1 {color: black;}#sk-container-id-1 pre{padding: 0;}#sk-container-id-1 div.sk-toggleable {background-color: white;}#sk-container-id-1 label.sk-toggleable__label {cursor: pointer;display: block;width: 100%;margin-bottom: 0;padding: 0.3em;box-sizing: border-box;text-align: center;}#sk-container-id-1 label.sk-toggleable__label-arrow:before {content: \"▸\";float: left;margin-right: 0.25em;color: #696969;}#sk-container-id-1 label.sk-toggleable__label-arrow:hover:before {color: black;}#sk-container-id-1 div.sk-estimator:hover label.sk-toggleable__label-arrow:before {color: black;}#sk-container-id-1 div.sk-toggleable__content {max-height: 0;max-width: 0;overflow: hidden;text-align: left;background-color: #f0f8ff;}#sk-container-id-1 div.sk-toggleable__content pre {margin: 0.2em;color: black;border-radius: 0.25em;background-color: #f0f8ff;}#sk-container-id-1 input.sk-toggleable__control:checked~div.sk-toggleable__content {max-height: 200px;max-width: 100%;overflow: auto;}#sk-container-id-1 input.sk-toggleable__control:checked~label.sk-toggleable__label-arrow:before {content: \"▾\";}#sk-container-id-1 div.sk-estimator input.sk-toggleable__control:checked~label.sk-toggleable__label {background-color: #d4ebff;}#sk-container-id-1 div.sk-label input.sk-toggleable__control:checked~label.sk-toggleable__label {background-color: #d4ebff;}#sk-container-id-1 input.sk-hidden--visually {border: 0;clip: rect(1px 1px 1px 1px);clip: rect(1px, 1px, 1px, 1px);height: 1px;margin: -1px;overflow: hidden;padding: 0;position: absolute;width: 1px;}#sk-container-id-1 div.sk-estimator {font-family: monospace;background-color: #f0f8ff;border: 1px dotted black;border-radius: 0.25em;box-sizing: border-box;margin-bottom: 0.5em;}#sk-container-id-1 div.sk-estimator:hover {background-color: #d4ebff;}#sk-container-id-1 div.sk-parallel-item::after {content: \"\";width: 100%;border-bottom: 1px solid gray;flex-grow: 1;}#sk-container-id-1 div.sk-label:hover label.sk-toggleable__label {background-color: #d4ebff;}#sk-container-id-1 div.sk-serial::before {content: \"\";position: absolute;border-left: 1px solid gray;box-sizing: border-box;top: 0;bottom: 0;left: 50%;z-index: 0;}#sk-container-id-1 div.sk-serial {display: flex;flex-direction: column;align-items: center;background-color: white;padding-right: 0.2em;padding-left: 0.2em;position: relative;}#sk-container-id-1 div.sk-item {position: relative;z-index: 1;}#sk-container-id-1 div.sk-parallel {display: flex;align-items: stretch;justify-content: center;background-color: white;position: relative;}#sk-container-id-1 div.sk-item::before, #sk-container-id-1 div.sk-parallel-item::before {content: \"\";position: absolute;border-left: 1px solid gray;box-sizing: border-box;top: 0;bottom: 0;left: 50%;z-index: -1;}#sk-container-id-1 div.sk-parallel-item {display: flex;flex-direction: column;z-index: 1;position: relative;background-color: white;}#sk-container-id-1 div.sk-parallel-item:first-child::after {align-self: flex-end;width: 50%;}#sk-container-id-1 div.sk-parallel-item:last-child::after {align-self: flex-start;width: 50%;}#sk-container-id-1 div.sk-parallel-item:only-child::after {width: 0;}#sk-container-id-1 div.sk-dashed-wrapped {border: 1px dashed gray;margin: 0 0.4em 0.5em 0.4em;box-sizing: border-box;padding-bottom: 0.4em;background-color: white;}#sk-container-id-1 div.sk-label label {font-family: monospace;font-weight: bold;display: inline-block;line-height: 1.2em;}#sk-container-id-1 div.sk-label-container {text-align: center;}#sk-container-id-1 div.sk-container {/* jupyter's `normalize.less` sets `[hidden] { display: none; }` but bootstrap.min.css set `[hidden] { display: none !important; }` so we also need the `!important` here to be able to override the default hidden behavior on the sphinx rendered scikit-learn.org. See: https://github.com/scikit-learn/scikit-learn/issues/21755 */display: inline-block !important;position: relative;}#sk-container-id-1 div.sk-text-repr-fallback {display: none;}</style><div id=\"sk-container-id-1\" class=\"sk-top-container\"><div class=\"sk-text-repr-fallback\"><pre>MultinomialNB()</pre><b>In a Jupyter environment, please rerun this cell to show the HTML representation or trust the notebook. <br />On GitHub, the HTML representation is unable to render, please try loading this page with nbviewer.org.</b></div><div class=\"sk-container\" hidden><div class=\"sk-item\"><div class=\"sk-estimator sk-toggleable\"><input class=\"sk-toggleable__control sk-hidden--visually\" id=\"sk-estimator-id-1\" type=\"checkbox\" checked><label for=\"sk-estimator-id-1\" class=\"sk-toggleable__label sk-toggleable__label-arrow\">MultinomialNB</label><div class=\"sk-toggleable__content\"><pre>MultinomialNB()</pre></div></div></div></div></div>"
      ],
      "text/plain": [
       "MultinomialNB()"
      ]
     },
     "execution_count": 14,
     "metadata": {},
     "output_type": "execute_result"
    }
   ],
   "source": [
    "# Model fitting\n",
    "model = MultinomialNB() # Multinomial is used for discrete values (e.g. counts)\n",
    "model.fit(x_train, y_train)"
   ]
  },
  {
   "cell_type": "markdown",
   "id": "36d45943",
   "metadata": {},
   "source": [
    "### Model evaluation\n",
    "\n",
    "#### Metrics\n",
    "\n",
    "1. Accuracy: is an evaluation metric that measures the number of correct predictions made by a model in relation to the total number of predictions made.\n",
    "\n",
    "2. Balanced Accuracy is the average between the sensitivity and the specificity, which measures the average accuracy obtained from both the minority and majority classes.\n",
    "\n",
    "3. Precision is the ratio of true positives to the sum of true positives and false positives, measuring a classifier's accuracy for positive predictions.\n",
    "\n",
    "4. Recall, or sensitivity, is the ratio of true positives to the sum of true positives and false negatives, assessing a classifier's ability to capture all positives.\n",
    "\n",
    "5. Confusion matrix summarizes model performance by showing true positives, true negatives, false positives, and false negatives in classification.\n",
    "\n",
    "6. Precision-Recall curve visually represents the trade-off between precision and recall at different probability thresholds, assessing a classifier's performance."
   ]
  },
  {
   "cell_type": "code",
   "execution_count": 42,
   "id": "9456cd69",
   "metadata": {},
   "outputs": [
    {
     "name": "stdout",
     "output_type": "stream",
     "text": [
      "Accuracy score: 0.9744757339724386\n"
     ]
    }
   ],
   "source": [
    "model_score = model.score(x_test, y_test)\n",
    "print(\"Accuracy score:\", model_score)"
   ]
  },
  {
   "cell_type": "code",
   "execution_count": 47,
   "id": "b95c91e6",
   "metadata": {},
   "outputs": [],
   "source": [
    "## Helper functions\n",
    "\n",
    "def print_performance_metrics(y_test, y_pred):\n",
    "    # metrics info: https://scikit-learn.org/stable/modules/model_evaluation.html\n",
    "    accuracy = metrics.accuracy_score(y_test, y_pred)\n",
    "    baccuracy = metrics.balanced_accuracy_score(y_test, y_pred)\n",
    "    precision = metrics.precision_score(y_test, y_pred)\n",
    "    recall = metrics.recall_score(y_test, y_pred)\n",
    "    f1score = metrics.f1_score(y_test, y_pred)\n",
    "        \n",
    "    print(\"Accuracy Score: \\t\", accuracy, \"\\nBalanced Accuracy Score:\", baccuracy)\n",
    "    print(\"\\nPrecision Score: \\t\", precision, \"\\nRecall Score: \\t\\t\", recall, \"\\nF1 Score: \\t\\t\", f1score)\n",
    "\n",
    "    # Confusion matrix\n",
    "    cm = metrics.confusion_matrix(y_test, y_pred, labels=[1, 0])\n",
    "    disp = metrics.ConfusionMatrixDisplay(confusion_matrix=cm, display_labels=[\"spam\", \"no spam\"])\n",
    "    disp.plot()\n",
    "\n",
    "    \n",
    "def plot_curves(model, x_test, y_test):\n",
    "    try:\n",
    "        display1 = metrics.RocCurveDisplay.from_estimator(model, x_test, y_test)\n",
    "        display1.ax_.set_title(\"ROC curve\")\n",
    "\n",
    "        display2 = metrics.PrecisionRecallDisplay.from_estimator(model, x_test, y_test)\n",
    "        display2.ax_.set_title(\"Precision-Recall curve\")\n",
    "    except:\n",
    "      print(\"Error\")"
   ]
  },
  {
   "cell_type": "code",
   "execution_count": 41,
   "id": "b066e2e5",
   "metadata": {},
   "outputs": [
    {
     "name": "stdout",
     "output_type": "stream",
     "text": [
      "Accuracy Score: \t 0.9744757339724386 \n",
      "Balanced Accuracy Score: 0.9749561978274122\n",
      "\n",
      "Precision Score: \t 0.9853009438341328 \n",
      "Recall Score: \t\t 0.9659461509290861 \n",
      "F1 Score: \t\t 0.9755275554364061\n"
     ]
    },
    {
     "data": {
      "image/png": "[encoded data removed]",
      "text/plain": [
       "<Figure size 640x480 with 2 Axes>"
      ]
     },
     "metadata": {},
     "output_type": "display_data"
    }
   ],
   "source": [
    "# Predicting values\n",
    "y_pred = model.predict(x_test)\n",
    "# Preformance metrics and confusion matrix\n",
    "print_performance_metrics(y_test, y_pred)"
   ]
  },
  {
   "cell_type": "code",
   "execution_count": 46,
   "id": "2528dca4",
   "metadata": {},
   "outputs": [
    {
     "data": {
      "image/png": "[encoded data removed]",
      "text/plain": [
       "<Figure size 640x480 with 1 Axes>"
      ]
     },
     "metadata": {},
     "output_type": "display_data"
    },
    {
     "data": {
      "image/png": "[encoded data removed]",
      "text/plain": [
       "<Figure size 640x480 with 1 Axes>"
      ]
     },
     "metadata": {},
     "output_type": "display_data"
    }
   ],
   "source": [
    "plot_curves(model, x_test, y_test)"
   ]
  },
  {
   "cell_type": "markdown",
   "id": "069b281d",
   "metadata": {},
   "source": [
    "## Predictions"
   ]
  },
  {
   "cell_type": "code",
   "execution_count": 48,
   "id": "7b0e4658",
   "metadata": {},
   "outputs": [
    {
     "data": {
      "text/plain": [
       "array([0, 1, 1, 1, 0])"
      ]
     },
     "execution_count": 48,
     "metadata": {},
     "output_type": "execute_result"
    }
   ],
   "source": [
    "new_emails = np.array([\"loading the model and making predictions\",\n",
    "       \"you won a lottery !\", \"Nothing is permanent\", \n",
    "        \"hello, want a job ?\", \"We have a meeting next Monday\" ])\n",
    "\n",
    "new_emails_vectorized = vectorizer.transform(new_emails)\n",
    "model.predict(new_emails_vectorized)"
   ]
  }
 ],
 "metadata": {
  "kernelspec": {
   "display_name": "Python 3 (ipykernel)",
   "language": "python",
   "name": "python3"
  },
  "language_info": {
   "codemirror_mode": {
    "name": "ipython",
    "version": 3
   },
   "file_extension": ".py",
   "mimetype": "text/x-python",
   "name": "python",
   "nbconvert_exporter": "python",
   "pygments_lexer": "ipython3",
   "version": "3.9.18"
  }
 },
 "nbformat": 4,
 "nbformat_minor": 5
}
